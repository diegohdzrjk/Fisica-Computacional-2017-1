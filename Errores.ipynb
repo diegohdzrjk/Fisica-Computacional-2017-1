{
 "cells": [
  {
   "cell_type": "code",
   "execution_count": 1,
   "metadata": {
    "collapsed": true
   },
   "outputs": [],
   "source": [
    "from numpy import *\n",
    "from matplotlib.pyplot import *\n",
    "%matplotlib inline"
   ]
  },
  {
   "cell_type": "code",
   "execution_count": 50,
   "metadata": {
    "collapsed": false
   },
   "outputs": [],
   "source": [
    "def factorial(n):\n",
    "    fac,num = 1,range(2,n+1)\n",
    "    for n in num:\n",
    "        fac = fac*n\n",
    "    return fac\n",
    "\n",
    "def mi_sine(x, n_max=10):\n",
    "    x,y = x%(2*pi),0.\n",
    "    if x <= (pi/2):\n",
    "        x = x\n",
    "        #print \"intervalo 1\"\n",
    "    elif (pi/2) < x <= pi:\n",
    "        #print \"intervalo 2\"\n",
    "        x = pi-x\n",
    "    elif pi < x <= ((3*pi)/2):\n",
    "        #print \"intervalo 3\"\n",
    "        x = -(x-pi)\n",
    "    else:\n",
    "        #print \"intervalo 4\"\n",
    "        x = x-2*pi\n",
    "        \n",
    "    for n in range(n_max):\n",
    "        p = 2*n+1\n",
    "        y += ((-1)**n)*(x**(p)/factorial(p))\n",
    "        err_max = abs(x**(p+2))/factorial(p+2)\n",
    "    return y, err_max"
   ]
  },
  {
   "cell_type": "code",
   "execution_count": 77,
   "metadata": {
    "collapsed": false
   },
   "outputs": [
    {
     "data": {
      "text/plain": [
       "[<matplotlib.lines.Line2D at 0x113c20290>]"
      ]
     },
     "execution_count": 77,
     "metadata": {},
     "output_type": "execute_result"
    },
    {
     "data": {
      "image/png": "[encoded data removed]",
      "text/plain": [
       "<matplotlib.figure.Figure at 0x11363e550>"
      ]
     },
     "metadata": {},
     "output_type": "display_data"
    }
   ],
   "source": [
    "errores = zeros(10)\n",
    "for i in range(1, 10):\n",
    "    errores[i] = mi_sine(pi/2, i)[1]\n",
    "\n",
    "plot(range(1, 11), errores)"
   ]
  },
  {
   "cell_type": "code",
   "execution_count": null,
   "metadata": {
    "collapsed": true
   },
   "outputs": [],
   "source": []
  }
 ],
 "metadata": {
  "kernelspec": {
   "display_name": "Python 2",
   "language": "python",
   "name": "python2"
  },
  "language_info": {
   "codemirror_mode": {
    "name": "ipython",
    "version": 2
   },
   "file_extension": ".py",
   "mimetype": "text/x-python",
   "name": "python",
   "nbconvert_exporter": "python",
   "pygments_lexer": "ipython2",
   "version": "2.7.11"
  }
 },
 "nbformat": 4,
 "nbformat_minor": 0
}
