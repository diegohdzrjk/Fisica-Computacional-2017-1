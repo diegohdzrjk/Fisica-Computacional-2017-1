{
 "cells": [
  {
   "cell_type": "code",
   "execution_count": 8,
   "metadata": {
    "collapsed": true
   },
   "outputs": [],
   "source": [
    "from numpy import *\n",
    "from matplotlib.pylab import *\n",
    "%matplotlib inline"
   ]
  },
  {
   "cell_type": "markdown",
   "metadata": {},
   "source": [
    "Si tenemos la ecuación diferencial\n",
    "$$y'(x) = f(x,y)$$\n",
    "Podemos tomar\n",
    "$$\\int_{x_n}^{x_{n+1}} y'(x) dx = \\int_{x_n}^{x_{n+1}}f(x,y) dx$$\n",
    "Por lo tanto\n",
    "$$y(x_{n+1}) dx = y(x_n) +\\int_{x_n}^{x_{n+1}}f(x,y) dx$$\n",
    "Expresando a $f(x,y)$ como su serie de Taylor tenemos\n",
    "$$f(x,y) = f(x_0,y_n) + hf'(x_n,y_n) + \\frac{h^2}{2} f''(x_n,y_n) +O(h^3)$$\n",
    "\n",
    "Por lo tanto reescribimos como\n",
    "$$y(x_{n+1}) \\approx y(x_n) + hf(x_0,y_n) + O(h^2)$$\n",
    "\n",
    "Una mejor opción sería escribirlo como\n",
    "$$f(x,y) = f(x_0,y_n) + h\\frac{d}{dx}f'(x_n,y_n) + \\frac{h^2}{2} \\frac{d^2}{dx^2}f(x_n,y_n) +O(h^3)$$\n",
    "$$f(x,y) = f(x_0,y_n) + h\\frac{d}{dx}f(x_n,y_n) + \\frac{h^2}{2} f''(x_n,y_n) +O(h^3)$$\n",
    "\n",
    "\n",
    "Pero $$\\frac{d}{dx}f(x_n,y_n) = \\left(\\frac{\\partial f(x_n,y_n)}{\\partial x} + \\frac{\\partial f(x_n,y_n)}{\\partial y} f(x_n,y_n)\\right)$$\n",
    "\n",
    "Por lo tanto \n",
    "$$y(x_{n+1}) \\approx y(x_n) + hf(x_n,y_n) + \\frac{h^2}{2}\\left(\\frac{\\partial f(x_n,y_n)}{\\partial x} + \\frac{\\partial f(x_n,y_n)}{\\partial y} f(x_n,y_n)\\right) + O(h^3)$$"
   ]
  },
  {
   "cell_type": "code",
   "execution_count": 9,
   "metadata": {
    "collapsed": false
   },
   "outputs": [],
   "source": [
    "def metodo1D(funcion, jacob, metodo, p_ini, tiempos, h=0.01):\n",
    "    y = [0]*len(tiempos)\n",
    "    y[0] = p_ini\n",
    "    y = metodo(y, tiempos, funcion, jacob)\n",
    "    solucion = [tiempos, y]\n",
    "    return solucion\n",
    "\n",
    "\n",
    "def euler_plus(y, tiempo, funcion, jacob):\n",
    "    for i in range(len(y)-1):\n",
    "        y[i+1] = y[i] + h*funcion(y[i], tiempo[i]) + 0.5*h*h*(jacob(y[i], tiempo[i])[0]+jacob(y[i], tiempo[i])[1]*funcion(y[i], tiempo[i]))\n",
    "    return y\n",
    "\n",
    "def euler(y, tiempo, funcion, jacob):\n",
    "    for i in range(len(y)-1):\n",
    "        y[i+1] = y[i] + h*funcion(y[i], tiempo[i])\n",
    "    return y"
   ]
  },
  {
   "cell_type": "code",
   "execution_count": 59,
   "metadata": {
    "collapsed": false
   },
   "outputs": [
    {
     "data": {
      "image/png": "[encoded data removed]",
      "text/plain": [
       "<matplotlib.figure.Figure at 0x107a22510>"
      ]
     },
     "metadata": {},
     "output_type": "display_data"
    },
    {
     "data": {
      "image/png": "[encoded data removed]",
      "text/plain": [
       "<matplotlib.figure.Figure at 0x10806af50>"
      ]
     },
     "metadata": {},
     "output_type": "display_data"
    }
   ],
   "source": [
    "def ec_dif(y, x):\n",
    "    return x*sin(y)\n",
    "\n",
    "def ec_jac(y, x):\n",
    "    return sin(y), x*cos(y)\n",
    "    \n",
    "h = 0.2\n",
    "p_ini = 1\n",
    "tiempos = arange(0, 2*pi+h, h)\n",
    "\n",
    "sol1 = metodo1D(ec_dif, ec_jac, euler_plus, p_ini, tiempos, h)\n",
    "sol2 = metodo1D(ec_dif, array([0,0]), euler, p_ini, tiempos, h)\n",
    "\n",
    "dif = [sol1[1][i] - sol2[1][i] for i in range(len(sol1[1]))]\n",
    "\n",
    "plot(sol1[0], sol1[1], sol1[0], sol2[1]);\n",
    "show()\n",
    "plot(sol1[0], dif);"
   ]
  },
  {
   "cell_type": "markdown",
   "metadata": {
    "collapsed": true
   },
   "source": [
    "$$ \\vec{y_{n+1}} \\approx \\vec{y_{n}}+ h\\vec{f}(x_n,y_n)+\\frac{1}{2}h \\left[ \\frac{\\partial \\vec{f}}{\\partial x} + \\vec{J}(\\vec{f}(x_n,y_n))\\cdot\\vec{f}(x_n,y_n)\\right]$$"
   ]
  },
  {
   "cell_type": "code",
   "execution_count": null,
   "metadata": {
    "collapsed": true
   },
   "outputs": [],
   "source": []
  }
 ],
 "metadata": {
  "kernelspec": {
   "display_name": "Python 2",
   "language": "python",
   "name": "python2"
  },
  "language_info": {
   "codemirror_mode": {
    "name": "ipython",
    "version": 2
   },
   "file_extension": ".py",
   "mimetype": "text/x-python",
   "name": "python",
   "nbconvert_exporter": "python",
   "pygments_lexer": "ipython2",
   "version": "2.7.12"
  }
 },
 "nbformat": 4,
 "nbformat_minor": 0
}
