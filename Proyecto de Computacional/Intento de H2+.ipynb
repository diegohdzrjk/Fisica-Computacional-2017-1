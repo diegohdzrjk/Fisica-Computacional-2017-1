{
 "cells": [
  {
   "cell_type": "code",
   "execution_count": 1,
   "metadata": {
    "collapsed": true
   },
   "outputs": [],
   "source": [
    "from numpy import *\n",
    "from matplotlib.pyplot import *\n",
    "%matplotlib inline"
   ]
  },
  {
   "cell_type": "markdown",
   "metadata": {},
   "source": [
    "Se trata de resolver el ión $H_2^+$ a forma de prueba de concepto y herramientas númericas.\n",
    "\n",
    "Se modela el ión de $H_2^+$, ignorando la dinámica de los núcleos y solamente nos fijamos en la dinámica del electrón.\n",
    "\n",
    "La presencia de los núcleos se modelan como pozos delta, utilizando la función delta de Dirac, $\\delta (x-x_0)$.\n",
    "\n",
    "De esta forma consideramos el Hamiltoniano siguiente:\n",
    "$$H = \\frac{\\hat p^2}{2m} - U \\left[ \\delta (x-x_0) +\\delta (x+x_0)\\right]$$\n",
    "\n",
    "Donde $U$ es la energia de enlace.\n",
    "\n",
    "Por lo tanto la ecuación de Schrödinger que debemos de resolver es:\n",
    "\n",
    "$$\\hat H\\ \\psi = E\\ \\psi$$\n",
    "\n",
    "$$\\left(\\frac{\\hat p^2}{2m} - U \\left[ \\delta (x-x_0) +\\delta (x+x_0)\\right]\\right) \\psi = E\\ \\psi$$\n",
    "\n",
    "$$\\left(\\frac{-\\hbar^2}{2m}\\frac{\\partial^2}{\\partial x^2} - U \\left[ \\delta (x-x_0) +\\delta (x+x_0)\\right]\\right) \\psi = E\\ \\psi$$\n",
    "\n",
    "Que se puede reescribir como\n",
    "\n",
    "$$\\frac{\\partial^2 \\psi}{\\partial x^2} = -\\frac{2m}{\\hbar^2}\\left(E + U \\left[ \\delta (x-x_0) +\\delta (x+x_0)\\right]\\right)\\ \\psi$$\n",
    "\n",
    "Esta ecuación diferencial parcial de segundo orden podemos llevarlo a un sistema de dos ecuaciones diferenciales de primer orden.\n",
    "\n",
    "$$\\phi = \\frac{\\partial \\psi}{\\partial x}$$\n",
    "$$ \\frac{\\partial \\phi}{\\partial x} = -\\frac{2m}{\\hbar^2}\\left(E + U \\left[ \\delta (x-x_0) +\\delta (x+x_0)\\right]\\right)\\ \\psi$$"
   ]
  },
  {
   "cell_type": "markdown",
   "metadata": {},
   "source": [
    "**Notemos que surge un problema ya que no conocemos E** ya que en principio m y U estan dados por el problema."
   ]
  },
  {
   "cell_type": "markdown",
   "metadata": {},
   "source": [
    "Para resolver este problema se utilizará el método de Runge Kutta de cuarto orden\n",
    "\n",
    "    def RK4(ec, p_ini, x, h=0.1):\n",
    "        tiempos = arange(x[0],x[1]+h,h)\n",
    "        sol = zeros((len(tiempos),len(p_ini)))\n",
    "        sol[0,:] = p_ini\n",
    "        for i in xrange(len(tiempos)-1): \n",
    "            k1 = ec(sol[i,:],tiempos[i])\n",
    "            k2 = ec(sol[i,:]+0.5*h*k1,tiempos[i]+0.5*h)\n",
    "            k3 = ec(sol[i,:]+0.5*h*k2,tiempos[i]+0.5*h)\n",
    "            k4 = ec(sol[i,:]+h*k3,tiempos[i]+h)\n",
    "            sol[i+1,:] = sol[i,:] + h*(k1+2*k2+2*k3+k4)/6\n",
    "        return tiempos,sol"
   ]
  },
  {
   "cell_type": "code",
   "execution_count": null,
   "metadata": {
    "collapsed": true
   },
   "outputs": [],
   "source": []
  }
 ],
 "metadata": {
  "kernelspec": {
   "display_name": "Python 2",
   "language": "python",
   "name": "python2"
  },
  "language_info": {
   "codemirror_mode": {
    "name": "ipython",
    "version": 2
   },
   "file_extension": ".py",
   "mimetype": "text/x-python",
   "name": "python",
   "nbconvert_exporter": "python",
   "pygments_lexer": "ipython2",
   "version": "2.7.12"
  }
 },
 "nbformat": 4,
 "nbformat_minor": 0
}
