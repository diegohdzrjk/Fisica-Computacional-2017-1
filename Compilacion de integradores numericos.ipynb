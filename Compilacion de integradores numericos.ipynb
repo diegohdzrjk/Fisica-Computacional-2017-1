{
 "cells": [
  {
   "cell_type": "code",
   "execution_count": 1,
   "metadata": {
    "collapsed": true
   },
   "outputs": [],
   "source": [
    "def metodo1D(funcion, jacob, metodo, p_ini, tiempos, h=0.01):\n",
    "    y = [0]*len(tiempos)\n",
    "    y[0] = p_ini\n",
    "    y = metodo(y, tiempos, funcion, jacob)\n",
    "    solucion = [tiempos, y]\n",
    "    return solucion\n",
    "\n",
    "\n",
    "def euler_plus(y, tiempo, funcion, jacob):\n",
    "    for i in range(len(y)-1):\n",
    "        y[i+1] = y[i] + h*funcion(y[i], tiempo[i]) + 0.5*h*h*(jacob(y[i], tiempo[i])[0]+jacob(y[i], tiempo[i])[1]*funcion(y[i], tiempo[i]))\n",
    "    return y\n",
    "\n",
    "def euler(y, tiempo, funcion, jacob):\n",
    "    for i in range(len(y)-1):\n",
    "        y[i+1] = y[i] + h*funcion(y[i], tiempo[i])\n",
    "    return y"
   ]
  },
  {
   "cell_type": "code",
   "execution_count": 2,
   "metadata": {
    "collapsed": true
   },
   "outputs": [],
   "source": [
    "def RK2(ec, p_ini, x, h=0.1):\n",
    "    tiempos = arange(x[0],x[1]+h,h)\n",
    "    sol = zeros((len(tiempos),len(p_ini)))\n",
    "    sol[0,:] = p_ini\n",
    "    for i in xrange(len(tiempos)-1): \n",
    "        k = h*ec(sol[i,:],tiempos[i])\n",
    "        f = ec(sol[i,:]+0.5*k,tiempos[i]+0.5*h)\n",
    "        sol[i+1,:] = sol[i,:]+h*f\n",
    "    return tiempos,sol\n",
    "\n",
    "def integra2(ec,d_ec,p_ini,x,h=0.1):\n",
    "    tiempos = arange(x[0],x[1]+h,h)\n",
    "    sol = zeros((len(tiempos),len(p_ini)))\n",
    "    sol[0,:] = p_ini\n",
    "    for i in xrange(len(tiempos)-1): #xrange ocupa menos memoria para cualquier for que valga mas de 100\n",
    "        f=ec(sol[i,:],tiempos[i])\n",
    "        df,jac=d_ec(sol[i,:],tiempos[i])\n",
    "        sol[i+1,:]=sol[i,:]+h*f+(0.5*h*h*(df+dot(jac,f)))\n",
    "    return tiempos,sol\n",
    "\n",
    "def RK4(ec, p_ini, x, h=0.1):\n",
    "    tiempos = arange(x[0],x[1]+h,h)\n",
    "    sol = zeros((len(tiempos),len(p_ini)))\n",
    "    sol[0,:] = p_ini\n",
    "    for i in xrange(len(tiempos)-1): \n",
    "        k1 = ec(sol[i,:],tiempos[i])\n",
    "        k2 = ec(sol[i,:]+0.5*h*k1,tiempos[i]+0.5*h)\n",
    "        k3 = ec(sol[i,:]+0.5*h*k2,tiempos[i]+0.5*h)\n",
    "        k4 = ec(sol[i,:]+h*k3,tiempos[i]+h)\n",
    "        sol[i+1,:] = sol[i,:] + h*(k1+2*k2+2*k3+k4)/6\n",
    "    return tiempos,sol\n",
    "\n",
    "\n",
    "\"\"\"\n",
    "\n",
    "def mov_planetario(x, t):\n",
    "    r3 = (x[0]*x[0]+x[1]*x[1])**(1.5)\n",
    "    drx = x[2]\n",
    "    dry = x[3]\n",
    "    dvrx = -x[0]/r3\n",
    "    dvry = -x[1]/r3\n",
    "    return array([drx, dry, dvrx, dvry])\n",
    "\n",
    "\n",
    "%%time\n",
    "t, r_vr = RK4(mov_planetario, array([1.0, 0.0, 0.1, 0.5]), [0,4*pi], 1.0e-2)\n",
    "\n",
    "fig = plt.figure()\n",
    "ax = fig.add_subplot(111)\n",
    "\n",
    "ax.plot(r_vr[:,0], r_vr[:,1])\n",
    "ax.set_aspect('equal')\n",
    "ax.grid(True);\n",
    "\"\""
   ]
  },
  {
   "cell_type": "code",
   "execution_count": null,
   "metadata": {
    "collapsed": true
   },
   "outputs": [],
   "source": []
  }
 ],
 "metadata": {
  "kernelspec": {
   "display_name": "Python 2",
   "language": "python",
   "name": "python2"
  },
  "language_info": {
   "codemirror_mode": {
    "name": "ipython",
    "version": 2
   },
   "file_extension": ".py",
   "mimetype": "text/x-python",
   "name": "python",
   "nbconvert_exporter": "python",
   "pygments_lexer": "ipython2",
   "version": "2.7.12"
  }
 },
 "nbformat": 4,
 "nbformat_minor": 0
}
