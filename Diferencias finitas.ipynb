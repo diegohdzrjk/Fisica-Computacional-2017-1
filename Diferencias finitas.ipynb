{
 "cells": [
  {
   "cell_type": "markdown",
   "metadata": {},
   "source": [
    "Ecuacion de onda"
   ]
  },
  {
   "cell_type": "code",
   "execution_count": 21,
   "metadata": {
    "collapsed": false
   },
   "outputs": [
    {
     "data": {
      "text/plain": [
       "Matrix_1D (generic function with 2 methods)"
      ]
     },
     "execution_count": 21,
     "metadata": {},
     "output_type": "execute_result"
    }
   ],
   "source": [
    "function Matrix_1D(x::Array{Float64,1})\n",
    "    N = length(x)-2\n",
    "    A = spzeros(N,N)\n",
    "    \n",
    "    for i in 1:N\n",
    "        A[i,i] = (1./(x[i+2]-x[i+1])+1./(x[i+1]-x[i]))/(x[i+2]-x[i])\n",
    "    end\n",
    "    \n",
    "    for i in 1:(N-1)\n",
    "        diag_sup = -1./((x[i+2]-x[i+1])*sqrt((x[i+2]-x[i])*(x[i+3]-x[i+1])))\n",
    "        A[i+1,i] = diag_sup\n",
    "        A[i,i+1] = diag_sup\n",
    "    end\n",
    "    return A\n",
    "end"
   ]
  },
  {
   "cell_type": "code",
   "execution_count": 35,
   "metadata": {
    "collapsed": false
   },
   "outputs": [
    {
     "name": "stdout",
     "output_type": "stream",
     "text": [
      "length(x) = 10001\n",
      "  0.035561 seconds (1.18 k allocations: 28.727 MB, 5.68% gc time)\n",
      "[1.0,2.0,3.0,4.0,5.0,6.0,7.0,8.0,9.0,10.0]\n"
     ]
    }
   ],
   "source": [
    "x = collect(0.:0.0001:1)\n",
    "@show length(x)\n",
    "A = Matrix_1D(x)\n",
    "@time Val, M = eigs(A, nev=10, which=:SM)\n",
    "println(sqrt(2.0*Val)/pi)"
   ]
  },
  {
   "cell_type": "code",
   "execution_count": null,
   "metadata": {
    "collapsed": true
   },
   "outputs": [],
   "source": []
  }
 ],
 "metadata": {
  "kernelspec": {
   "display_name": "Julia 0.5.0",
   "language": "julia",
   "name": "julia-0.5"
  },
  "language_info": {
   "file_extension": ".jl",
   "mimetype": "application/julia",
   "name": "julia",
   "version": "0.5.0"
  }
 },
 "nbformat": 4,
 "nbformat_minor": 0
}
